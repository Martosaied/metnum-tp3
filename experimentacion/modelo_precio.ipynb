{
 "cells": [
  {
   "cell_type": "code",
   "execution_count": 44,
   "metadata": {},
   "outputs": [
    {
     "name": "stdout",
     "output_type": "stream",
     "text": [
      "/home/patricio/hdd/metnum-tp3/experimentacion\n",
      "Python 3.8.5\n"
     ]
    }
   ],
   "source": [
    "import numpy as np\n",
    "import pandas as pd\n",
    "from sklearn.metrics import mean_squared_error, mean_squared_log_error\n",
    "\n",
    "# Verifico la correcta instalación. Si no falla el import está OK\n",
    "!pwd\n",
    "!python --version\n",
    "import metnum"
   ]
  },
  {
   "cell_type": "code",
   "execution_count": 58,
   "metadata": {},
   "outputs": [],
   "source": [
    "df = pd.read_csv('../data/train.csv')"
   ]
  },
  {
   "cell_type": "code",
   "execution_count": 59,
   "metadata": {},
   "outputs": [
    {
     "name": "stdout",
     "output_type": "stream",
     "text": [
      "None\n"
     ]
    }
   ],
   "source": [
    "df = df[df['tipodepropiedad']=='Apartamento']\n",
    "\n",
    "df = df.drop(['id', 'titulo', 'descripcion', 'fecha', 'tipodepropiedad', 'direccion', 'ciudad', 'provincia', 'idzona', 'lat', 'lng'], axis=1)\n",
    "df = df.drop(['gimnasio', 'usosmultiples', 'piscina'], axis=1)\n",
    "print(df.dropna(inplace=True))\n",
    "\n",
    "\n",
    "X = df.drop(['precio'], axis=1).values\n",
    "y = df['precio'].values\n",
    "y = y.reshape(-1,1)"
   ]
  },
  {
   "cell_type": "code",
   "execution_count": 60,
   "metadata": {},
   "outputs": [],
   "source": [
    "linear_regressor = metnum.LinearRegression()\n",
    "linear_regressor.fit(X,y)\n",
    "y_predicted = linear_regressor.predict(X)"
   ]
  },
  {
   "cell_type": "code",
   "execution_count": 61,
   "metadata": {},
   "outputs": [
    {
     "data": {
      "text/plain": [
       "array([[1150000.],\n",
       "       [1100000.],\n",
       "       [ 980000.],\n",
       "       ...,\n",
       "       [2079000.],\n",
       "       [1450000.],\n",
       "       [3400000.]])"
      ]
     },
     "execution_count": 61,
     "metadata": {},
     "output_type": "execute_result"
    }
   ],
   "source": [
    "y"
   ]
  },
  {
   "cell_type": "code",
   "execution_count": 62,
   "metadata": {},
   "outputs": [],
   "source": [
    "y_predicted = y_predicted[np.where(y_predicted > 0)]"
   ]
  },
  {
   "cell_type": "code",
   "execution_count": 63,
   "metadata": {},
   "outputs": [],
   "source": [
    "y = y[np.where(y_predicted > 0)]"
   ]
  },
  {
   "cell_type": "code",
   "execution_count": 64,
   "metadata": {},
   "outputs": [
    {
     "name": "stdout",
     "output_type": "stream",
     "text": [
      "2634134.613873972\n",
      "1.0821441990676088\n"
     ]
    }
   ],
   "source": [
    "rms = mean_squared_error(y, y_predicted, squared=False)\n",
    "print(rms)\n",
    "rmsle = mean_squared_log_error(y, y_predicted)\n",
    "print(rmsle)\n"
   ]
  },
  {
   "cell_type": "code",
   "execution_count": 71,
   "metadata": {},
   "outputs": [
    {
     "data": {
      "text/plain": [
       "22937"
      ]
     },
     "execution_count": 71,
     "metadata": {},
     "output_type": "execute_result"
    }
   ],
   "source": [
    "len(np.where(y_predicted > 0)[0])"
   ]
  }
 ],
 "metadata": {
  "interpreter": {
   "hash": "869f23ea37fa0fb20bc7267fbcb0472e8d0c44e939a3f80c665e9bd0d2c0f5b4"
  },
  "kernelspec": {
   "display_name": "Python 3.8.5  ('tp3': venv)",
   "name": "python3"
  },
  "language_info": {
   "codemirror_mode": {
    "name": "ipython",
    "version": 3
   },
   "file_extension": ".py",
   "mimetype": "text/x-python",
   "name": "python",
   "nbconvert_exporter": "python",
   "pygments_lexer": "ipython3",
   "version": "3.8.5"
  },
  "orig_nbformat": 4
 },
 "nbformat": 4,
 "nbformat_minor": 2
}