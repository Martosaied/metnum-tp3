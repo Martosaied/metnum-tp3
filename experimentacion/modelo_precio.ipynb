{
 "cells": [
  {
   "cell_type": "code",
   "execution_count": 4,
   "metadata": {},
   "outputs": [
    {
     "name": "stdout",
     "output_type": "stream",
     "text": [
      "/home/patricio/hdd/metnum-tp3/experimentacion\n",
      "Python 3.8.5\n"
     ]
    }
   ],
   "source": [
    "import numpy as np\n",
    "import pandas as pd\n",
    "import ModeloPrecio\n",
    "from sklearn.metrics import mean_squared_error, mean_squared_log_error\n",
    "\n",
    "# Verifico la correcta instalación. Si no falla el import está OK\n",
    "!pwd\n",
    "!python --version\n",
    "import metnum"
   ]
  },
  {
   "cell_type": "code",
   "execution_count": 2,
   "metadata": {},
   "outputs": [],
   "source": [
    "df = pd.read_csv('../data/train.csv')"
   ]
  },
  {
   "cell_type": "code",
   "execution_count": 5,
   "metadata": {},
   "outputs": [
    {
     "name": "stdout",
     "output_type": "stream",
     "text": [
      "dict_keys([('Aguascalientes', 'Apartamento'), ('Aguascalientes', 'Bodega comercial'), ('Aguascalientes', 'Casa'), ('Aguascalientes', 'Casa en condominio'), ('Aguascalientes', 'Casa uso de suelo'), ('Aguascalientes', 'Edificio'), ('Aguascalientes', 'Inmuebles productivos urbanos'), ('Aguascalientes', 'Local Comercial'), ('Aguascalientes', 'Local en centro comercial'), ('Aguascalientes', 'Nave industrial'), ('Aguascalientes', 'Oficina comercial'), ('Aguascalientes', 'Quinta Vacacional'), ('Aguascalientes', 'Terreno'), ('Aguascalientes', 'Terreno comercial'), ('Aguascalientes', 'Villa'), ('Baja California Norte', 'Apartamento'), ('Baja California Norte', 'Bodega comercial'), ('Baja California Norte', 'Casa'), ('Baja California Norte', 'Casa en condominio'), ('Baja California Norte', 'Casa uso de suelo'), ('Baja California Norte', 'Departamento Compartido'), ('Baja California Norte', 'Duplex'), ('Baja California Norte', 'Local Comercial'), ('Baja California Norte', 'Local en centro comercial'), ('Baja California Norte', 'Nave industrial'), ('Baja California Norte', 'Quinta Vacacional'), ('Baja California Norte', 'Rancho'), ('Baja California Norte', 'Terreno'), ('Baja California Norte', 'Terreno comercial'), ('Baja California Norte', 'Villa'), ('Baja California Sur', 'Apartamento'), ('Baja California Sur', 'Bodega comercial'), ('Baja California Sur', 'Casa'), ('Baja California Sur', 'Casa en condominio'), ('Baja California Sur', 'Casa uso de suelo'), ('Baja California Sur', 'Duplex'), ('Baja California Sur', 'Edificio'), ('Baja California Sur', 'Inmuebles productivos urbanos'), ('Baja California Sur', 'Local Comercial'), ('Baja California Sur', 'Oficina comercial'), ('Baja California Sur', 'Quinta Vacacional'), ('Baja California Sur', 'Rancho'), ('Baja California Sur', 'Terreno'), ('Baja California Sur', 'Terreno comercial'), ('Baja California Sur', 'Villa'), ('Campeche', 'Apartamento'), ('Campeche', 'Bodega comercial'), ('Campeche', 'Casa'), ('Campeche', 'Casa en condominio'), ('Campeche', 'Casa uso de suelo'), ('Campeche', 'Edificio'), ('Campeche', 'Hospedaje'), ('Campeche', 'Inmuebles productivos urbanos'), ('Campeche', 'Local Comercial'), ('Campeche', 'Local en centro comercial'), ('Campeche', 'Quinta Vacacional'), ('Campeche', 'Terreno'), ('Campeche', 'Terreno comercial'), ('Chiapas', 'Apartamento'), ('Chiapas', 'Bodega comercial'), ('Chiapas', 'Casa'), ('Chiapas', 'Casa en condominio'), ('Chiapas', 'Casa uso de suelo'), ('Chiapas', 'Duplex'), ('Chiapas', 'Edificio'), ('Chiapas', 'Inmuebles productivos urbanos'), ('Chiapas', 'Local Comercial'), ('Chiapas', 'Local en centro comercial'), ('Chiapas', 'Oficina comercial'), ('Chiapas', 'Quinta Vacacional'), ('Chiapas', 'Rancho'), ('Chiapas', 'Terreno'), ('Chiapas', 'Villa'), ('Chihuahua', 'Apartamento'), ('Chihuahua', 'Bodega comercial'), ('Chihuahua', 'Casa'), ('Chihuahua', 'Casa en condominio'), ('Chihuahua', 'Casa uso de suelo'), ('Chihuahua', 'Edificio'), ('Chihuahua', 'Huerta'), ('Chihuahua', 'Inmuebles productivos urbanos'), ('Chihuahua', 'Local Comercial'), ('Chihuahua', 'Local en centro comercial'), ('Chihuahua', 'Oficina comercial'), ('Chihuahua', 'Otros'), ('Chihuahua', 'Quinta Vacacional'), ('Chihuahua', 'Rancho'), ('Chihuahua', 'Terreno'), ('Chihuahua', 'Terreno comercial'), ('Chihuahua', 'Terreno industrial'), ('Chihuahua', 'Villa'), ('Coahuila', 'Apartamento'), ('Coahuila', 'Bodega comercial'), ('Coahuila', 'Casa'), ('Coahuila', 'Casa en condominio'), ('Coahuila', 'Casa uso de suelo'), ('Coahuila', 'Edificio'), ('Coahuila', 'Inmuebles productivos urbanos'), ('Coahuila', 'Local Comercial'), ('Coahuila', 'Nave industrial'), ('Coahuila', 'Oficina comercial'), ('Coahuila', 'Quinta Vacacional'), ('Coahuila', 'Rancho'), ('Coahuila', 'Terreno'), ('Coahuila', 'Terreno comercial'), ('Coahuila', 'Terreno industrial'), ('Coahuila', 'Villa'), ('Colima', 'Apartamento'), ('Colima', 'Bodega comercial'), ('Colima', 'Casa'), ('Colima', 'Casa en condominio'), ('Colima', 'Duplex'), ('Colima', 'Edificio'), ('Colima', 'Inmuebles productivos urbanos'), ('Colima', 'Local Comercial'), ('Colima', 'Oficina comercial'), ('Colima', 'Rancho'), ('Colima', 'Terreno'), ('Colima', 'Terreno comercial'), ('Colima', 'Villa'), ('Distrito Federal', 'Apartamento'), ('Distrito Federal', 'Bodega comercial'), ('Distrito Federal', 'Casa'), ('Distrito Federal', 'Casa en condominio'), ('Distrito Federal', 'Casa uso de suelo'), ('Distrito Federal', 'Departamento Compartido'), ('Distrito Federal', 'Duplex'), ('Distrito Federal', 'Edificio'), ('Distrito Federal', 'Garage'), ('Distrito Federal', 'Inmuebles productivos urbanos'), ('Distrito Federal', 'Local Comercial'), ('Distrito Federal', 'Local en centro comercial'), ('Distrito Federal', 'Lote'), ('Distrito Federal', 'Nave industrial'), ('Distrito Federal', 'Oficina comercial'), ('Distrito Federal', 'Otros'), ('Distrito Federal', 'Quinta Vacacional'), ('Distrito Federal', 'Rancho'), ('Distrito Federal', 'Terreno'), ('Distrito Federal', 'Terreno comercial'), ('Distrito Federal', 'Terreno industrial'), ('Distrito Federal', 'Villa'), ('Durango', 'Apartamento'), ('Durango', 'Bodega comercial'), ('Durango', 'Casa'), ('Durango', 'Casa en condominio'), ('Durango', 'Casa uso de suelo'), ('Durango', 'Edificio'), ('Durango', 'Huerta'), ('Durango', 'Inmuebles productivos urbanos'), ('Durango', 'Local Comercial'), ('Durango', 'Local en centro comercial'), ('Durango', 'Nave industrial'), ('Durango', 'Oficina comercial'), ('Durango', 'Otros'), ('Durango', 'Quinta Vacacional'), ('Durango', 'Rancho'), ('Durango', 'Terreno'), ('Durango', 'Terreno comercial'), ('Durango', 'Terreno industrial'), ('Durango', 'Villa'), ('Edo. de México', 'Apartamento'), ('Edo. de México', 'Bodega comercial'), ('Edo. de México', 'Casa'), ('Edo. de México', 'Casa en condominio'), ('Edo. de México', 'Casa uso de suelo'), ('Edo. de México', 'Departamento Compartido'), ('Edo. de México', 'Duplex'), ('Edo. de México', 'Edificio'), ('Edo. de México', 'Huerta'), ('Edo. de México', 'Inmuebles productivos urbanos'), ('Edo. de México', 'Local Comercial'), ('Edo. de México', 'Local en centro comercial'), ('Edo. de México', 'Lote'), ('Edo. de México', 'Nave industrial'), ('Edo. de México', 'Oficina comercial'), ('Edo. de México', 'Otros'), ('Edo. de México', 'Quinta Vacacional'), ('Edo. de México', 'Rancho'), ('Edo. de México', 'Terreno'), ('Edo. de México', 'Terreno comercial'), ('Edo. de México', 'Terreno industrial'), ('Edo. de México', 'Villa'), ('Edo. de México', nan), ('Guanajuato', 'Apartamento'), ('Guanajuato', 'Bodega comercial'), ('Guanajuato', 'Casa'), ('Guanajuato', 'Casa en condominio'), ('Guanajuato', 'Casa uso de suelo'), ('Guanajuato', 'Duplex'), ('Guanajuato', 'Edificio'), ('Guanajuato', 'Inmuebles productivos urbanos'), ('Guanajuato', 'Local Comercial'), ('Guanajuato', 'Local en centro comercial'), ('Guanajuato', 'Oficina comercial'), ('Guanajuato', 'Otros'), ('Guanajuato', 'Rancho'), ('Guanajuato', 'Terreno'), ('Guanajuato', 'Terreno comercial'), ('Guanajuato', 'Villa'), ('Guerrero', 'Apartamento'), ('Guerrero', 'Bodega comercial'), ('Guerrero', 'Casa'), ('Guerrero', 'Casa en condominio'), ('Guerrero', 'Casa uso de suelo'), ('Guerrero', 'Departamento Compartido'), ('Guerrero', 'Edificio'), ('Guerrero', 'Inmuebles productivos urbanos'), ('Guerrero', 'Local Comercial'), ('Guerrero', 'Nave industrial'), ('Guerrero', 'Oficina comercial'), ('Guerrero', 'Otros'), ('Guerrero', 'Quinta Vacacional'), ('Guerrero', 'Rancho'), ('Guerrero', 'Terreno'), ('Guerrero', 'Terreno comercial'), ('Guerrero', 'Terreno industrial'), ('Guerrero', 'Villa'), ('Hidalgo', 'Apartamento'), ('Hidalgo', 'Bodega comercial'), ('Hidalgo', 'Casa'), ('Hidalgo', 'Casa en condominio'), ('Hidalgo', 'Casa uso de suelo'), ('Hidalgo', 'Departamento Compartido'), ('Hidalgo', 'Duplex'), ('Hidalgo', 'Edificio'), ('Hidalgo', 'Inmuebles productivos urbanos'), ('Hidalgo', 'Local Comercial'), ('Hidalgo', 'Local en centro comercial'), ('Hidalgo', 'Oficina comercial'), ('Hidalgo', 'Quinta Vacacional'), ('Hidalgo', 'Rancho'), ('Hidalgo', 'Terreno'), ('Hidalgo', 'Terreno comercial'), ('Hidalgo', 'Terreno industrial'), ('Hidalgo', 'Villa'), ('Jalisco', 'Apartamento'), ('Jalisco', 'Bodega comercial'), ('Jalisco', 'Casa'), ('Jalisco', 'Casa en condominio'), ('Jalisco', 'Casa uso de suelo'), ('Jalisco', 'Departamento Compartido'), ('Jalisco', 'Duplex'), ('Jalisco', 'Edificio'), ('Jalisco', 'Huerta'), ('Jalisco', 'Inmuebles productivos urbanos'), ('Jalisco', 'Local Comercial'), ('Jalisco', 'Local en centro comercial'), ('Jalisco', 'Nave industrial'), ('Jalisco', 'Oficina comercial'), ('Jalisco', 'Quinta Vacacional'), ('Jalisco', 'Rancho'), ('Jalisco', 'Terreno'), ('Jalisco', 'Terreno comercial'), ('Jalisco', 'Terreno industrial'), ('Jalisco', 'Villa'), ('Michoacán', 'Apartamento'), ('Michoacán', 'Bodega comercial'), ('Michoacán', 'Casa'), ('Michoacán', 'Casa en condominio'), ('Michoacán', 'Casa uso de suelo'), ('Michoacán', 'Duplex'), ('Michoacán', 'Edificio'), ('Michoacán', 'Inmuebles productivos urbanos'), ('Michoacán', 'Local Comercial'), ('Michoacán', 'Nave industrial'), ('Michoacán', 'Oficina comercial'), ('Michoacán', 'Quinta Vacacional'), ('Michoacán', 'Rancho'), ('Michoacán', 'Terreno'), ('Michoacán', 'Terreno comercial'), ('Michoacán', 'Terreno industrial'), ('Michoacán', 'Villa'), ('Morelos', 'Apartamento'), ('Morelos', 'Bodega comercial'), ('Morelos', 'Casa'), ('Morelos', 'Casa en condominio'), ('Morelos', 'Casa uso de suelo'), ('Morelos', 'Departamento Compartido'), ('Morelos', 'Duplex'), ('Morelos', 'Edificio'), ('Morelos', 'Inmuebles productivos urbanos'), ('Morelos', 'Local Comercial'), ('Morelos', 'Local en centro comercial'), ('Morelos', 'Oficina comercial'), ('Morelos', 'Otros'), ('Morelos', 'Quinta Vacacional'), ('Morelos', 'Rancho'), ('Morelos', 'Terreno'), ('Morelos', 'Terreno comercial'), ('Morelos', 'Villa'), ('Nayarit', 'Apartamento'), ('Nayarit', 'Bodega comercial'), ('Nayarit', 'Casa'), ('Nayarit', 'Casa en condominio'), ('Nayarit', 'Casa uso de suelo'), ('Nayarit', 'Edificio'), ('Nayarit', 'Local Comercial'), ('Nayarit', 'Oficina comercial'), ('Nayarit', 'Quinta Vacacional'), ('Nayarit', 'Terreno'), ('Nayarit', 'Terreno comercial'), ('Nayarit', 'Villa'), ('Nuevo León', 'Apartamento'), ('Nuevo León', 'Bodega comercial'), ('Nuevo León', 'Casa'), ('Nuevo León', 'Casa en condominio'), ('Nuevo León', 'Casa uso de suelo'), ('Nuevo León', 'Departamento Compartido'), ('Nuevo León', 'Duplex'), ('Nuevo León', 'Edificio'), ('Nuevo León', 'Huerta'), ('Nuevo León', 'Inmuebles productivos urbanos'), ('Nuevo León', 'Local Comercial'), ('Nuevo León', 'Local en centro comercial'), ('Nuevo León', 'Nave industrial'), ('Nuevo León', 'Oficina comercial'), ('Nuevo León', 'Otros'), ('Nuevo León', 'Quinta Vacacional'), ('Nuevo León', 'Rancho'), ('Nuevo León', 'Terreno'), ('Nuevo León', 'Terreno comercial'), ('Nuevo León', 'Terreno industrial'), ('Nuevo León', 'Villa'), ('Oaxaca', 'Apartamento'), ('Oaxaca', 'Bodega comercial'), ('Oaxaca', 'Casa'), ('Oaxaca', 'Casa en condominio'), ('Oaxaca', 'Casa uso de suelo'), ('Oaxaca', 'Edificio'), ('Oaxaca', 'Inmuebles productivos urbanos'), ('Oaxaca', 'Local Comercial'), ('Oaxaca', 'Oficina comercial'), ('Oaxaca', 'Otros'), ('Oaxaca', 'Rancho'), ('Oaxaca', 'Terreno'), ('Oaxaca', 'Terreno comercial'), ('Puebla', 'Apartamento'), ('Puebla', 'Bodega comercial'), ('Puebla', 'Casa'), ('Puebla', 'Casa en condominio'), ('Puebla', 'Casa uso de suelo'), ('Puebla', 'Departamento Compartido'), ('Puebla', 'Duplex'), ('Puebla', 'Edificio'), ('Puebla', 'Inmuebles productivos urbanos'), ('Puebla', 'Local Comercial'), ('Puebla', 'Local en centro comercial'), ('Puebla', 'Nave industrial'), ('Puebla', 'Oficina comercial'), ('Puebla', 'Otros'), ('Puebla', 'Quinta Vacacional'), ('Puebla', 'Rancho'), ('Puebla', 'Terreno'), ('Puebla', 'Terreno comercial'), ('Puebla', 'Villa'), ('Querétaro', 'Apartamento'), ('Querétaro', 'Bodega comercial'), ('Querétaro', 'Casa'), ('Querétaro', 'Casa en condominio'), ('Querétaro', 'Casa uso de suelo'), ('Querétaro', 'Duplex'), ('Querétaro', 'Edificio'), ('Querétaro', 'Inmuebles productivos urbanos'), ('Querétaro', 'Local Comercial'), ('Querétaro', 'Local en centro comercial'), ('Querétaro', 'Nave industrial'), ('Querétaro', 'Oficina comercial'), ('Querétaro', 'Otros'), ('Querétaro', 'Quinta Vacacional'), ('Querétaro', 'Rancho'), ('Querétaro', 'Terreno'), ('Querétaro', 'Terreno comercial'), ('Querétaro', 'Terreno industrial'), ('Querétaro', 'Villa'), ('Quintana Roo', 'Apartamento'), ('Quintana Roo', 'Bodega comercial'), ('Quintana Roo', 'Casa'), ('Quintana Roo', 'Casa en condominio'), ('Quintana Roo', 'Casa uso de suelo'), ('Quintana Roo', 'Departamento Compartido'), ('Quintana Roo', 'Edificio'), ('Quintana Roo', 'Inmuebles productivos urbanos'), ('Quintana Roo', 'Local Comercial'), ('Quintana Roo', 'Local en centro comercial'), ('Quintana Roo', 'Oficina comercial'), ('Quintana Roo', 'Otros'), ('Quintana Roo', 'Quinta Vacacional'), ('Quintana Roo', 'Rancho'), ('Quintana Roo', 'Terreno'), ('Quintana Roo', 'Terreno comercial'), ('Quintana Roo', 'Villa'), ('San luis Potosí', 'Apartamento'), ('San luis Potosí', 'Bodega comercial'), ('San luis Potosí', 'Casa'), ('San luis Potosí', 'Casa en condominio'), ('San luis Potosí', 'Casa uso de suelo'), ('San luis Potosí', 'Departamento Compartido'), ('San luis Potosí', 'Duplex'), ('San luis Potosí', 'Edificio'), ('San luis Potosí', 'Inmuebles productivos urbanos'), ('San luis Potosí', 'Local Comercial'), ('San luis Potosí', 'Local en centro comercial'), ('San luis Potosí', 'Nave industrial'), ('San luis Potosí', 'Oficina comercial'), ('San luis Potosí', 'Otros'), ('San luis Potosí', 'Quinta Vacacional'), ('San luis Potosí', 'Rancho'), ('San luis Potosí', 'Terreno'), ('San luis Potosí', 'Terreno comercial'), ('San luis Potosí', 'Terreno industrial'), ('San luis Potosí', nan), ('Sinaloa', 'Apartamento'), ('Sinaloa', 'Bodega comercial'), ('Sinaloa', 'Casa'), ('Sinaloa', 'Casa en condominio'), ('Sinaloa', 'Casa uso de suelo'), ('Sinaloa', 'Duplex'), ('Sinaloa', 'Edificio'), ('Sinaloa', 'Inmuebles productivos urbanos'), ('Sinaloa', 'Local Comercial'), ('Sinaloa', 'Oficina comercial'), ('Sinaloa', 'Quinta Vacacional'), ('Sinaloa', 'Rancho'), ('Sinaloa', 'Terreno'), ('Sinaloa', 'Terreno comercial'), ('Sinaloa', 'Terreno industrial'), ('Sonora', 'Apartamento'), ('Sonora', 'Bodega comercial'), ('Sonora', 'Casa'), ('Sonora', 'Casa en condominio'), ('Sonora', 'Casa uso de suelo'), ('Sonora', 'Departamento Compartido'), ('Sonora', 'Duplex'), ('Sonora', 'Edificio'), ('Sonora', 'Huerta'), ('Sonora', 'Inmuebles productivos urbanos'), ('Sonora', 'Local Comercial'), ('Sonora', 'Oficina comercial'), ('Sonora', 'Quinta Vacacional'), ('Sonora', 'Rancho'), ('Sonora', 'Terreno'), ('Sonora', 'Terreno comercial'), ('Sonora', 'Villa'), ('Tabasco', 'Apartamento'), ('Tabasco', 'Bodega comercial'), ('Tabasco', 'Casa'), ('Tabasco', 'Casa en condominio'), ('Tabasco', 'Casa uso de suelo'), ('Tabasco', 'Edificio'), ('Tabasco', 'Huerta'), ('Tabasco', 'Local Comercial'), ('Tabasco', 'Oficina comercial'), ('Tabasco', 'Otros'), ('Tabasco', 'Quinta Vacacional'), ('Tabasco', 'Terreno'), ('Tabasco', 'Terreno comercial'), ('Tamaulipas', 'Apartamento'), ('Tamaulipas', 'Bodega comercial'), ('Tamaulipas', 'Casa'), ('Tamaulipas', 'Casa en condominio'), ('Tamaulipas', 'Casa uso de suelo'), ('Tamaulipas', 'Edificio'), ('Tamaulipas', 'Inmuebles productivos urbanos'), ('Tamaulipas', 'Local Comercial'), ('Tamaulipas', 'Oficina comercial'), ('Tamaulipas', 'Terreno'), ('Tamaulipas', 'Terreno comercial'), ('Tamaulipas', 'Villa'), ('Tlaxcala', 'Apartamento'), ('Tlaxcala', 'Bodega comercial'), ('Tlaxcala', 'Casa'), ('Tlaxcala', 'Casa en condominio'), ('Tlaxcala', 'Casa uso de suelo'), ('Tlaxcala', 'Edificio'), ('Tlaxcala', 'Local Comercial'), ('Tlaxcala', 'Otros'), ('Tlaxcala', 'Quinta Vacacional'), ('Tlaxcala', 'Terreno'), ('Tlaxcala', 'Terreno comercial'), ('Tlaxcala', 'Villa'), ('Veracruz', 'Apartamento'), ('Veracruz', 'Bodega comercial'), ('Veracruz', 'Casa'), ('Veracruz', 'Casa en condominio'), ('Veracruz', 'Casa uso de suelo'), ('Veracruz', 'Edificio'), ('Veracruz', 'Huerta'), ('Veracruz', 'Local Comercial'), ('Veracruz', 'Local en centro comercial'), ('Veracruz', 'Lote'), ('Veracruz', 'Nave industrial'), ('Veracruz', 'Oficina comercial'), ('Veracruz', 'Quinta Vacacional'), ('Veracruz', 'Rancho'), ('Veracruz', 'Terreno'), ('Veracruz', 'Terreno comercial'), ('Veracruz', 'Villa'), ('Veracruz', nan), ('Yucatán', 'Apartamento'), ('Yucatán', 'Bodega comercial'), ('Yucatán', 'Casa'), ('Yucatán', 'Casa en condominio'), ('Yucatán', 'Casa uso de suelo'), ('Yucatán', 'Departamento Compartido'), ('Yucatán', 'Duplex'), ('Yucatán', 'Edificio'), ('Yucatán', 'Local Comercial'), ('Yucatán', 'Nave industrial'), ('Yucatán', 'Oficina comercial'), ('Yucatán', 'Quinta Vacacional'), ('Yucatán', 'Rancho'), ('Yucatán', 'Terreno'), ('Yucatán', 'Terreno comercial'), ('Yucatán', 'Terreno industrial'), ('Yucatán', 'Villa'), ('Yucatán', nan), ('Zacatecas', 'Apartamento'), ('Zacatecas', 'Casa'), ('Zacatecas', 'Casa en condominio'), ('Zacatecas', 'Edificio'), ('Zacatecas', 'Local Comercial'), ('Zacatecas', 'Terreno'), ('Zacatecas', 'Terreno comercial'), (nan, 'Apartamento'), (nan, 'Bodega comercial'), (nan, 'Casa'), (nan, 'Casa en condominio'), (nan, 'Casa uso de suelo'), (nan, 'Oficina comercial'), (nan, 'Terreno'), (nan, 'Terreno comercial'), (nan, nan)])\n"
     ]
    }
   ],
   "source": [
    "mp = ModeloPrecio.ModeloPrecio(df)\n",
    "mp.feature_engeneering()\n",
    "mp.segmentar(['ciudad', 'tipodepropiedad'])"
   ]
  },
  {
   "cell_type": "code",
   "execution_count": 59,
   "metadata": {},
   "outputs": [
    {
     "name": "stdout",
     "output_type": "stream",
     "text": [
      "None\n"
     ]
    }
   ],
   "source": [
    "\n",
    "\n",
    "df = df.drop(['id', 'titulo', 'descripcion', 'fecha', 'tipodepropiedad', 'direccion', 'ciudad', 'provincia', 'idzona', 'lat', 'lng'], axis=1)\n",
    "df = df.drop(['gimnasio', 'usosmultiples', 'piscina'], axis=1)\n",
    "print(df.dropna(inplace=True))\n",
    "\n",
    "\n",
    "X = df.drop(['precio'], axis=1).values\n",
    "y = df['precio'].values\n",
    "y = y.reshape(-1,1)"
   ]
  },
  {
   "cell_type": "code",
   "execution_count": 60,
   "metadata": {},
   "outputs": [],
   "source": [
    "linear_regressor = metnum.LinearRegression()\n",
    "linear_regressor.fit(X,y)\n",
    "y_predicted = linear_regressor.predict(X)"
   ]
  },
  {
   "cell_type": "code",
   "execution_count": 61,
   "metadata": {},
   "outputs": [
    {
     "data": {
      "text/plain": [
       "array([[1150000.],\n",
       "       [1100000.],\n",
       "       [ 980000.],\n",
       "       ...,\n",
       "       [2079000.],\n",
       "       [1450000.],\n",
       "       [3400000.]])"
      ]
     },
     "execution_count": 61,
     "metadata": {},
     "output_type": "execute_result"
    }
   ],
   "source": [
    "y"
   ]
  },
  {
   "cell_type": "code",
   "execution_count": 62,
   "metadata": {},
   "outputs": [],
   "source": [
    "y_predicted = y_predicted[np.where(y_predicted > 0)]"
   ]
  },
  {
   "cell_type": "code",
   "execution_count": 63,
   "metadata": {},
   "outputs": [],
   "source": [
    "y = y[np.where(y_predicted > 0)]"
   ]
  },
  {
   "cell_type": "code",
   "execution_count": 64,
   "metadata": {},
   "outputs": [
    {
     "name": "stdout",
     "output_type": "stream",
     "text": [
      "2634134.613873972\n",
      "1.0821441990676088\n"
     ]
    }
   ],
   "source": [
    "rms = mean_squared_error(y, y_predicted, squared=False)\n",
    "print(rms)\n",
    "rmsle = mean_squared_log_error(y, y_predicted)\n",
    "print(rmsle)\n"
   ]
  },
  {
   "cell_type": "code",
   "execution_count": 71,
   "metadata": {},
   "outputs": [
    {
     "data": {
      "text/plain": [
       "22937"
      ]
     },
     "execution_count": 71,
     "metadata": {},
     "output_type": "execute_result"
    }
   ],
   "source": [
    "len(np.where(y_predicted > 0)[0])"
   ]
  }
 ],
 "metadata": {
  "interpreter": {
   "hash": "869f23ea37fa0fb20bc7267fbcb0472e8d0c44e939a3f80c665e9bd0d2c0f5b4"
  },
  "kernelspec": {
   "display_name": "Python 3.8.5 64-bit ('tp3': venv)",
   "name": "python3"
  },
  "language_info": {
   "codemirror_mode": {
    "name": "ipython",
    "version": 3
   },
   "file_extension": ".py",
   "mimetype": "text/x-python",
   "name": "python",
   "nbconvert_exporter": "python",
   "pygments_lexer": "ipython3",
   "version": "3.8.5"
  },
  "orig_nbformat": 4
 },
 "nbformat": 4,
 "nbformat_minor": 2
}