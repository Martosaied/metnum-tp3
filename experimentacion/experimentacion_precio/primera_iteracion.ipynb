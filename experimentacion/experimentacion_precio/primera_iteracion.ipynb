{
 "cells": [
  {
   "cell_type": "markdown",
   "metadata": {},
   "source": [
    "Para esta iteracion, calcularemos el conjunto de partes del conjunto de todas las columnas utiles para la prediccion y haremos un ranking para cada una de las cuatro metricas."
   ]
  },
  {
   "cell_type": "markdown",
   "metadata": {},
   "source": [
    "Primero buildeamos el codigo de C++ que hara la regresion lineal."
   ]
  },
  {
   "cell_type": "code",
   "execution_count": null,
   "metadata": {},
   "outputs": [],
   "source": [
    "!cd .. && mkdir build\n",
    "!cd ../build/ && rm -rf *\n",
    "!cd ../build && cmake \\\n",
    "  -DPYTHON_EXECUTABLE=\"$(which python)\" \\\n",
    "  -DCMAKE_BUILD_TYPE=Release ..\n",
    "!cd ../build && make install"
   ]
  },
  {
   "cell_type": "markdown",
   "metadata": {},
   "source": [
    "Importamos las librearias necesarias."
   ]
  },
  {
   "cell_type": "code",
   "execution_count": 1,
   "metadata": {},
   "outputs": [],
   "source": [
    "from sklearn.model_selection import KFold\n",
    "import numpy as np\n",
    "import pandas as pd\n",
    "import ModeloPrecio\n",
    "from sklearn.metrics import mean_squared_error, mean_squared_log_error, r2_score, mean_absolute_error"
   ]
  },
  {
   "cell_type": "markdown",
   "metadata": {},
   "source": [
    "En esta ocasion, estaremos utilizando el dataset de train el cual contiene los precios. Como se ve mas adelante, utilizaremos la tecnica de K-Fold para conseguir metricas menos sesgadas del dataset."
   ]
  },
  {
   "cell_type": "code",
   "execution_count": null,
   "metadata": {},
   "outputs": [],
   "source": [
    "df = pd.read_csv('../../data/train.csv')"
   ]
  },
  {
   "cell_type": "markdown",
   "metadata": {},
   "source": [
    "Aqui se definen las columnas a utilizar, con las cuales calcularemos todas las combinaciones posibles."
   ]
  },
  {
   "cell_type": "code",
   "execution_count": null,
   "metadata": {},
   "outputs": [],
   "source": [
    "columnas_utilizadas = ['centroscomercialescercanos','escuelascercanas','piscina','usosmultiples','banos', 'habitaciones', 'antiguedad', 'metroscubiertos',\n",
    "            'metrostotales', 'garages']"
   ]
  },
  {
   "cell_type": "markdown",
   "metadata": {},
   "source": [
    "Por ultimo ejecutaremos nuestro modelo SinSegmentar el cual como dice su nombre, no utiliza ningun tipo de segmentacion. Otra caracteristica importante de nuestro modelo es que reemplaza cualquier informacion faltante de las columnas que utilice por el promedio de las mismas."
   ]
  },
  {
   "cell_type": "code",
   "execution_count": null,
   "metadata": {},
   "outputs": [],
   "source": [
    "KFOLD_K = 5\n",
    "kf = KFold(n_splits=KFOLD_K, shuffle=True)\n",
    "\n",
    "def powerset(s):\n",
    "    conjunto_de_partes = []\n",
    "    x = len(s)\n",
    "    for i in range(1 << x):\n",
    "        conjunto_de_partes.append([s[j] for j in range(x) if (i & (1 << j))])\n",
    "    return conjunto_de_partes\n",
    "\n",
    "result = {}\n",
    "for picked_columns in powerset(columnas_utilizadas):\n",
    "    rms = []\n",
    "    rmsle = []\n",
    "    mae = []\n",
    "    r2 = []\n",
    "    if picked_columns == []:\n",
    "        continue\n",
    "\n",
    "    for train_index, test_index in kf.split(df):\n",
    "        df_train, df_test = df.loc[train_index], df.loc[test_index]\n",
    "        \n",
    "        mp = ModeloPrecio.SinSegmentar(df_train, picked_columns)\n",
    "        df_predicted = mp.run(df_test)\n",
    "        \n",
    "        df_predicted['precio'] = df_predicted['precio'].copy().apply(lambda x: x if x > 0 else 0) \n",
    "        \n",
    "        rms.append(mean_squared_error(df_test[\"precio\"], df_predicted[\"precio\"], squared=False))\n",
    "        rmsle.append(mean_squared_log_error(df_test[\"precio\"],  df_predicted['precio']))\n",
    "        r2.append(r2_score(df_test[\"precio\"], df_predicted[\"precio\"]))\n",
    "        mae.append(mean_absolute_error(df_test[\"precio\"], df_predicted[\"precio\"]))\n",
    "\n",
    "    rms_result = np.sum(rms) / KFOLD_K \n",
    "    rmsle_result = np.sum(rmsle) / KFOLD_K \n",
    "    r2_result = np.sum(r2) / KFOLD_K \n",
    "    mae_result = np.sum(mae) / KFOLD_K \n",
    "\n",
    "    result['-'.join(picked_columns)] = np.array([rms_result, rmsle_result, r2_result, mae_result])\n",
    "\n",
    "print(result)\n"
   ]
  },
  {
   "cell_type": "markdown",
   "metadata": {},
   "source": [
    "Luego, este resultado es transformado en JSON y ordenado usando un script que nos devolvera otro JSON con 4 arrays de 5 elementos, uno para cada metrica junto con los 5 primeros."
   ]
  }
 ],
 "metadata": {
  "interpreter": {
   "hash": "31f2aee4e71d21fbe5cf8b01ff0e069b9275f58929596ceb00d14d90e3e16cd6"
  },
  "kernelspec": {
   "display_name": "Python 3.8.5 64-bit",
   "name": "python3"
  },
  "language_info": {
   "codemirror_mode": {
    "name": "ipython",
    "version": 3
   },
   "file_extension": ".py",
   "mimetype": "text/x-python",
   "name": "python",
   "nbconvert_exporter": "python",
   "pygments_lexer": "ipython3",
   "version": "3.8.5"
  },
  "orig_nbformat": 4
 },
 "nbformat": 4,
 "nbformat_minor": 2
}