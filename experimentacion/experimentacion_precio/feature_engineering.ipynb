{
 "cells": [
  {
   "cell_type": "code",
   "execution_count": null,
   "metadata": {},
   "outputs": [],
   "source": [
    "from sklearn.model_selection import KFold\n",
    "import numpy as np\n",
    "import pandas as pd\n",
    "from pandas.core.frame import DataFrame\n",
    "import ModeloPrecio\n",
    "from sklearn.metrics import mean_squared_error, mean_squared_log_error, r2_score, mean_absolute_error\n",
    "from pathlib import Path"
   ]
  },
  {
   "cell_type": "code",
   "execution_count": null,
   "metadata": {},
   "outputs": [],
   "source": [
    "df = pd.read_csv('../../data/train.csv')"
   ]
  },
  {
   "cell_type": "code",
   "execution_count": null,
   "metadata": {},
   "outputs": [],
   "source": []
  },
  {
   "cell_type": "code",
   "execution_count": null,
   "metadata": {},
   "outputs": [],
   "source": [
    "KFOLD_K = 5\n",
    "kf = KFold(n_splits=KFOLD_K, shuffle=True)\n",
    "\n",
    "result = {}\n",
    "for name, tuple in [('seguro' , (True, False)), ('buena zona', (False, True)), ('seguro y buena zona', (True, True))]:\n",
    "    rms = []\n",
    "    rmsle = []\n",
    "    mae = []\n",
    "    r2 = []\n",
    "\n",
    "    for train_index, test_index in kf.split(df):\n",
    "        df_train, df_test = df.loc[train_index], df.loc[test_index]\n",
    "        \n",
    "        mp = ModeloPrecio.ModeloPrecioV2FeatEng(df_train, tuple)\n",
    "        df_predicted = mp.run(df_test, ['tipodepropiedad'])\n",
    "    \n",
    "        \n",
    "        df_predicted['precio'] = df_predicted['precio'].copy().apply(lambda x: x if x > 0 else 0) \n",
    "        rms.append(mean_squared_error(df_test[\"precio\"], df_predicted[\"precio\"], squared=False))\n",
    "        rmsle.append(mean_squared_log_error(df_test[\"precio\"],  df_predicted['precio']))\n",
    "        r2.append(r2_score(df_test[\"precio\"], df_predicted[\"precio\"]))\n",
    "        mae.append(mean_absolute_error(df_test[\"precio\"], df_predicted[\"precio\"]))\n",
    "\n",
    "    rms_result = np.sum(rms) / KFOLD_K \n",
    "    rmsle_result = np.sum(rmsle) / KFOLD_K \n",
    "    r2_result = np.sum(r2) / KFOLD_K \n",
    "    mae_result = np.sum(mae) / KFOLD_K\n",
    "\n",
    "    result[name] = [rms_result, rmsle_result, r2_result, mae_result]\n",
    "\n",
    "\n",
    "out = pd.DataFrame.from_dict(result, orient='index', columns=['RMSE', 'RMSLE', 'R^2', 'MAE']).to_latex(column_format='p{6cm}|r|r|r|r')\n",
    "print(out)"
   ]
  }
 ],
 "metadata": {
  "language_info": {
   "name": "python",
   "nbconvert_exporter": "python"
  },
  "orig_nbformat": 4
 },
 "nbformat": 4,
 "nbformat_minor": 2
}