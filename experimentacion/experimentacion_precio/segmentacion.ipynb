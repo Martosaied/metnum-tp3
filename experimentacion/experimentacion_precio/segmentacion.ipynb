{
 "cells": [
  {
   "cell_type": "markdown",
   "metadata": {},
   "source": [
    "Para esta iteracion, probaremos con distintas formas de segmentacion sobre nuestro dataset para mejorar la capacidad de prediccion de nuestro modelo."
   ]
  },
  {
   "cell_type": "markdown",
   "metadata": {},
   "source": [
    "Buildeamos codigo C++\n",
    "Mover el build generado en la carpeta experimentacion a la carpeta requerida(en este caso experimentacion_precio)"
   ]
  },
  {
   "cell_type": "code",
   "execution_count": null,
   "metadata": {},
   "outputs": [],
   "source": [
    "!cd .. && mkdir build\n",
    "!cd ../build/ && rm -rf *\n",
    "!cd ../build && cmake \\\n",
    "  -DPYTHON_EXECUTABLE=\"$(which python)\" \\\n",
    "  -DCMAKE_BUILD_TYPE=Release ..\n",
    "!cd ../build && make install"
   ]
  },
  {
   "cell_type": "markdown",
   "metadata": {},
   "source": [
    "Importamos dependencias"
   ]
  },
  {
   "cell_type": "code",
   "execution_count": null,
   "metadata": {},
   "outputs": [],
   "source": [
    "from sklearn.model_selection import KFold\n",
    "import numpy as np\n",
    "import pandas as pd\n",
    "from pandas.core.frame import DataFrame\n",
    "import ModeloPrecio\n",
    "from sklearn.metrics import mean_squared_error, mean_squared_log_error, r2_score, mean_absolute_error\n",
    "from pathlib import Path"
   ]
  },
  {
   "cell_type": "markdown",
   "metadata": {},
   "source": [
    "Importamos el dataset a utilizar"
   ]
  },
  {
   "cell_type": "code",
   "execution_count": null,
   "metadata": {},
   "outputs": [],
   "source": [
    "df = pd.read_csv('../../data/train.csv')"
   ]
  },
  {
   "cell_type": "markdown",
   "metadata": {},
   "source": [
    "Definimos un diccionario con dos modelos distintos. Ambos funcionan de la misma manera pero estan codeados de maneras muy distintas. Los resultados mostrados en el informe son utilizando el v2."
   ]
  },
  {
   "cell_type": "code",
   "execution_count": null,
   "metadata": {},
   "outputs": [],
   "source": [
    "modelos = {\n",
    "    'v2': ModeloPrecio.SegmentadoV2,\n",
    "    'm2_segmentado': ModeloPrecio.ModeloPrecioMetrosCuadradosSeg,\n",
    "}"
   ]
  },
  {
   "cell_type": "markdown",
   "metadata": {},
   "source": [
    "Definimos las columnas seleccionadas, las cuales son la mejor combinacion a la hora de predecir SIN segmentacion.\n",
    "Definimos las distintas segmentaciones a utilizar en esta prueba."
   ]
  },
  {
   "cell_type": "code",
   "execution_count": null,
   "metadata": {},
   "outputs": [],
   "source": [
    "columnas_seleccionadas = [\"escuelascercanas\",\"piscina\",\"usosmultiples\",\"banos\",\"habitaciones\",\"metroscubiertos\"]\n",
    "\n",
    "segmentaciones = [['tipodepropiedad'],['tipodepropiedad', 'provincia'], ['piscina', 'usosmultiples'], ['tipodepropiedad','piscina', 'usosmultiples']]"
   ]
  },
  {
   "cell_type": "code",
   "execution_count": null,
   "metadata": {},
   "outputs": [],
   "source": [
    "KFOLD_K = 5\n",
    "kf = KFold(n_splits=KFOLD_K, shuffle=True)\n",
    "\n",
    "\n",
    "result = {}\n",
    "for segmentacion in segmentaciones:\n",
    "    rms = []\n",
    "    rmsle = []\n",
    "    mae = []\n",
    "    r2 = []\n",
    "\n",
    "    for train_index, test_index in kf.split(df):\n",
    "        df_train, df_test = df.loc[train_index], df.loc[test_index]\n",
    "        \n",
    "        mp = modelos['v2'](df_train, columnas_seleccionadas)\n",
    "        df_predicted = mp.run(df_test, segmentacion)\n",
    "    \n",
    "        \n",
    "        df_predicted['precio'] = df_predicted['precio'].copy().apply(lambda x: x if x > 0 else 0) \n",
    "        rms.append(mean_squared_error(df_test[\"precio\"], df_predicted[\"precio\"], squared=False))\n",
    "        rmsle.append(mean_squared_log_error(df_test[\"precio\"],  df_predicted['precio']))\n",
    "        r2.append(r2_score(df_test[\"precio\"], df_predicted[\"precio\"]))\n",
    "        mae.append(mean_absolute_error(df_test[\"precio\"], df_predicted[\"precio\"]))\n",
    "\n",
    "    rms_result = np.sum(rms) / KFOLD_K \n",
    "    rmsle_result = np.sum(rmsle) / KFOLD_K \n",
    "    r2_result = np.sum(r2) / KFOLD_K \n",
    "    mae_result = np.sum(mae) / KFOLD_K\n",
    "\n",
    "    result[', '.join(segmentacion)] = [rms_result, rmsle_result, r2_result, mae_result]\n",
    "\n",
    "\n",
    "out = pd.DataFrame.from_dict(result, orient='index', columns=['RMSE', 'RMSLE', 'R^2', 'MAE']).to_latex(column_format='p{6cm}|r|r|r|r')\n",
    "print(out)"
   ]
  }
 ],
 "metadata": {
  "interpreter": {
   "hash": "31f2aee4e71d21fbe5cf8b01ff0e069b9275f58929596ceb00d14d90e3e16cd6"
  },
  "kernelspec": {
   "display_name": "Python 3.8.5 64-bit",
   "name": "python3"
  },
  "language_info": {
   "name": "python",
   "version": ""
  },
  "orig_nbformat": 4
 },
 "nbformat": 4,
 "nbformat_minor": 2
}