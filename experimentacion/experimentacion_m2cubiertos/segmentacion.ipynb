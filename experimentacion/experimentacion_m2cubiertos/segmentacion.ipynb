{
 "cells": [
  {
   "cell_type": "markdown",
   "metadata": {},
   "source": [
    "Para esta iteracion, probaremos con distintas formas de segmentacion sobre nuestro dataset para mejorar la capacidad de prediccion de nuestro modelo."
   ]
  },
  {
   "cell_type": "markdown",
   "metadata": {},
   "source": [
    "Buildeamos codigo C++\n",
    "Mover el build generado en la carpeta experimentacion a la carpeta requerida(en este caso experimentacion_precio)"
   ]
  },
  {
   "cell_type": "code",
   "execution_count": null,
   "metadata": {},
   "outputs": [],
   "source": [
    "!cd ../../ && mkdir build\n",
    "!cd ../../build/ && rm -rf *\n",
    "!cd ../../build && cmake \\\n",
    "  -DPYTHON_EXECUTABLE=\"$(which python)\" \\\n",
    "  -DCMAKE_BUILD_TYPE=Release ..\n",
    "!cd ../../build && make install"
   ]
  },
  {
   "cell_type": "markdown",
   "metadata": {},
   "source": [
    "Importamos dependencias"
   ]
  },
  {
   "cell_type": "code",
   "execution_count": 1,
   "metadata": {},
   "outputs": [],
   "source": [
    "from sklearn.model_selection import KFold\n",
    "import numpy as np\n",
    "import pandas as pd\n",
    "from pandas.core.frame import DataFrame\n",
    "import ModeloM2\n",
    "from sklearn.metrics import mean_squared_error, mean_squared_log_error, r2_score, mean_absolute_error\n",
    "from pathlib import Path"
   ]
  },
  {
   "cell_type": "markdown",
   "metadata": {},
   "source": [
    "Importamos el dataset a utilizar"
   ]
  },
  {
   "cell_type": "code",
   "execution_count": 17,
   "metadata": {},
   "outputs": [
    {
     "name": "stdout",
     "output_type": "stream",
     "text": [
      "<class 'pandas.core.frame.DataFrame'>\n",
      "RangeIndex: 240000 entries, 0 to 239999\n",
      "Data columns (total 23 columns):\n",
      " #   Column                      Non-Null Count   Dtype  \n",
      "---  ------                      --------------   -----  \n",
      " 0   id                          240000 non-null  int64  \n",
      " 1   titulo                      234613 non-null  object \n",
      " 2   descripcion                 238381 non-null  object \n",
      " 3   tipodepropiedad             239954 non-null  object \n",
      " 4   direccion                   186928 non-null  object \n",
      " 5   ciudad                      239628 non-null  object \n",
      " 6   provincia                   239845 non-null  object \n",
      " 7   antiguedad                  196445 non-null  float64\n",
      " 8   habitaciones                217529 non-null  float64\n",
      " 9   garages                     202235 non-null  float64\n",
      " 10  banos                       213779 non-null  float64\n",
      " 11  metroscubiertos             222600 non-null  float64\n",
      " 12  metrostotales               188533 non-null  float64\n",
      " 13  idzona                      211379 non-null  float64\n",
      " 14  lat                         116512 non-null  float64\n",
      " 15  lng                         116512 non-null  float64\n",
      " 16  fecha                       240000 non-null  object \n",
      " 17  gimnasio                    240000 non-null  float64\n",
      " 18  usosmultiples               240000 non-null  float64\n",
      " 19  piscina                     240000 non-null  float64\n",
      " 20  escuelascercanas            240000 non-null  float64\n",
      " 21  centroscomercialescercanos  240000 non-null  float64\n",
      " 22  precio                      240000 non-null  float64\n",
      "dtypes: float64(15), int64(1), object(7)\n",
      "memory usage: 42.1+ MB\n"
     ]
    }
   ],
   "source": [
    "df = pd.read_csv('../../data/train.csv')\n",
    "df.info()"
   ]
  },
  {
   "cell_type": "markdown",
   "metadata": {},
   "source": [
    "Definimos un diccionario con dos modelos distintos. Ambos funcionan de la misma manera pero estan codeados de maneras muy distintas. Los resultados mostrados en el informe son utilizando el v2."
   ]
  },
  {
   "cell_type": "code",
   "execution_count": 3,
   "metadata": {},
   "outputs": [],
   "source": [
    "modelos = {\n",
    "    'v2': ModeloM2.ModeloV2,\n",
    "}"
   ]
  },
  {
   "cell_type": "markdown",
   "metadata": {},
   "source": [
    "Definimos las columnas seleccionadas, las cuales son la mejor combinacion a la hora de predecir SIN segmentacion.\n",
    "Definimos las distintas segmentaciones a utilizar en esta prueba."
   ]
  },
  {
   "cell_type": "code",
   "execution_count": 34,
   "metadata": {},
   "outputs": [],
   "source": [
    "columnas_seleccionadas = [\"centroscomercialescercanos\",\"usosmultiples\",\"banos\",\"habitaciones\",\"precio\",\"metrostotales\"]\n",
    "\n",
    "segmentaciones = [['tipodepropiedad','piscina'], ['tipodepropiedad','piscina', 'escuelascercanas','garages'], ['tipodepropiedad'], ['tipodepropiedad','piscina'], ['tipodepropiedad','escuelascercanas'], ['tipodepropiedad','provincia']]"
   ]
  },
  {
   "cell_type": "code",
   "execution_count": 35,
   "metadata": {},
   "outputs": [
    {
     "name": "stdout",
     "output_type": "stream",
     "text": [
      "\\begin{tabular}{p{6cm}|r|r|r|r}\n",
      "\\toprule\n",
      "{} &       RMSE &     RMSLE &       R\\textasciicircum 2 &        MAE \\\\\n",
      "\\midrule\n",
      "tipodepropiedad, piscina                           &  51.729571 &  0.088868 &  0.722161 &  36.921592 \\\\\n",
      "tipodepropiedad, piscina, escuelascercanas, gar... &  54.737710 &  0.088158 &  0.684208 &  35.708493 \\\\\n",
      "tipodepropiedad                                    &  51.869070 &  0.089586 &  0.720703 &  37.158942 \\\\\n",
      "tipodepropiedad, escuelascercanas                  &  51.690757 &  0.089208 &  0.722628 &  37.052740 \\\\\n",
      "tipodepropiedad, provincia                         &  54.120192 &  0.110898 &  0.694940 &  34.622454 \\\\\n",
      "\\bottomrule\n",
      "\\end{tabular}\n",
      "\n"
     ]
    }
   ],
   "source": [
    "import warnings\n",
    "warnings.filterwarnings('ignore')\n",
    "\n",
    "KFOLD_K = 5\n",
    "kf = KFold(n_splits=KFOLD_K, shuffle=True)\n",
    "\n",
    "\n",
    "result = {}\n",
    "for segmentacion in segmentaciones:\n",
    "    rms = []\n",
    "    rmsle = []\n",
    "    mae = []\n",
    "    r2 = []\n",
    "    df = df[df['metroscubiertos'].notna()]\n",
    "    df.reset_index(drop=True, inplace=True)\n",
    "    for train_index, test_index in kf.split(df):\n",
    "        df_train, df_test = df.loc[train_index], df.loc[test_index]\n",
    "        \n",
    "        mp = modelos['v2'](df_train, columnas_seleccionadas)\n",
    "        df_predicted = mp.run(df_test, segmentacion)\n",
    "    \n",
    "        \n",
    "        df_predicted['metroscubiertos'] = df_predicted['metroscubiertos'].copy().apply(lambda x: x if x > 0 else 0) \n",
    "        rms.append(mean_squared_error(df_test[\"metroscubiertos\"], df_predicted[\"metroscubiertos\"], squared=False))\n",
    "        rmsle.append(mean_squared_log_error(df_test[\"metroscubiertos\"],  df_predicted['metroscubiertos']))\n",
    "        r2.append(r2_score(df_test[\"metroscubiertos\"], df_predicted[\"metroscubiertos\"]))\n",
    "        mae.append(mean_absolute_error(df_test[\"metroscubiertos\"], df_predicted[\"metroscubiertos\"]))\n",
    "\n",
    "    rms_result = np.sum(rms) / KFOLD_K \n",
    "    rmsle_result = np.sum(rmsle) / KFOLD_K \n",
    "    r2_result = np.sum(r2) / KFOLD_K \n",
    "    mae_result = np.sum(mae) / KFOLD_K\n",
    "\n",
    "    result[', '.join(segmentacion)] = [rms_result, rmsle_result, r2_result, mae_result]\n",
    "\n",
    "\n",
    "out = pd.DataFrame.from_dict(result, orient='index', columns=['RMSE', 'RMSLE', 'R^2', 'MAE']).to_latex(column_format='p{6cm}|r|r|r|r')\n",
    "print(out)"
   ]
  }
 ],
 "metadata": {
  "interpreter": {
   "hash": "31f2aee4e71d21fbe5cf8b01ff0e069b9275f58929596ceb00d14d90e3e16cd6"
  },
  "kernelspec": {
   "display_name": "Python 3.8.10 64-bit",
   "name": "python3"
  },
  "language_info": {
   "name": "python",
   "version": ""
  },
  "orig_nbformat": 4
 },
 "nbformat": 4,
 "nbformat_minor": 2
}